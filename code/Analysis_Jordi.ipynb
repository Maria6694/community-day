{
 "cells": [
  {
   "cell_type": "code",
   "execution_count": 1,
   "metadata": {},
   "outputs": [],
   "source": [
    "import pandas as pd\n",
    "import numpy as np\n",
    "import seaborn as sns\n",
    "import matplotlib.pyplot as plt"
   ]
  },
  {
   "cell_type": "code",
   "execution_count": 2,
   "metadata": {},
   "outputs": [],
   "source": [
    "cholera = pd.read_csv('../data/cholera_clean.csv', index_col = 0)"
   ]
  },
  {
   "cell_type": "code",
   "execution_count": 3,
   "metadata": {},
   "outputs": [
    {
     "data": {
      "text/html": [
       "<div>\n",
       "<style scoped>\n",
       "    .dataframe tbody tr th:only-of-type {\n",
       "        vertical-align: middle;\n",
       "    }\n",
       "\n",
       "    .dataframe tbody tr th {\n",
       "        vertical-align: top;\n",
       "    }\n",
       "\n",
       "    .dataframe thead th {\n",
       "        text-align: right;\n",
       "    }\n",
       "</style>\n",
       "<table border=\"1\" class=\"dataframe\">\n",
       "  <thead>\n",
       "    <tr style=\"text-align: right;\">\n",
       "      <th></th>\n",
       "      <th>age</th>\n",
       "      <th>sex</th>\n",
       "      <th>dehyd_lev</th>\n",
       "      <th>blood_pres</th>\n",
       "      <th>cholesterol</th>\n",
       "      <th>seizures</th>\n",
       "      <th>vomit_col</th>\n",
       "      <th>gastric_acid</th>\n",
       "      <th>O_bloodtype_bool</th>\n",
       "      <th>fec_cons</th>\n",
       "      <th>exposed_to</th>\n",
       "      <th>fever</th>\n",
       "      <th>cholera</th>\n",
       "    </tr>\n",
       "  </thead>\n",
       "  <tbody>\n",
       "    <tr>\n",
       "      <th>0</th>\n",
       "      <td>63</td>\n",
       "      <td>Male</td>\n",
       "      <td>3</td>\n",
       "      <td>145</td>\n",
       "      <td>233.0</td>\n",
       "      <td>1</td>\n",
       "      <td>0</td>\n",
       "      <td>150</td>\n",
       "      <td>0</td>\n",
       "      <td>0</td>\n",
       "      <td>0</td>\n",
       "      <td>0</td>\n",
       "      <td>1</td>\n",
       "    </tr>\n",
       "    <tr>\n",
       "      <th>1</th>\n",
       "      <td>37</td>\n",
       "      <td>Male</td>\n",
       "      <td>2</td>\n",
       "      <td>130</td>\n",
       "      <td>250.0</td>\n",
       "      <td>0</td>\n",
       "      <td>1</td>\n",
       "      <td>187</td>\n",
       "      <td>0</td>\n",
       "      <td>0</td>\n",
       "      <td>0</td>\n",
       "      <td>0</td>\n",
       "      <td>1</td>\n",
       "    </tr>\n",
       "    <tr>\n",
       "      <th>2</th>\n",
       "      <td>41</td>\n",
       "      <td>Female</td>\n",
       "      <td>1</td>\n",
       "      <td>130</td>\n",
       "      <td>204.0</td>\n",
       "      <td>0</td>\n",
       "      <td>0</td>\n",
       "      <td>172</td>\n",
       "      <td>0</td>\n",
       "      <td>2</td>\n",
       "      <td>0</td>\n",
       "      <td>0</td>\n",
       "      <td>1</td>\n",
       "    </tr>\n",
       "    <tr>\n",
       "      <th>3</th>\n",
       "      <td>56</td>\n",
       "      <td>Male</td>\n",
       "      <td>1</td>\n",
       "      <td>120</td>\n",
       "      <td>236.0</td>\n",
       "      <td>0</td>\n",
       "      <td>1</td>\n",
       "      <td>178</td>\n",
       "      <td>0</td>\n",
       "      <td>2</td>\n",
       "      <td>0</td>\n",
       "      <td>0</td>\n",
       "      <td>1</td>\n",
       "    </tr>\n",
       "    <tr>\n",
       "      <th>4</th>\n",
       "      <td>57</td>\n",
       "      <td>Female</td>\n",
       "      <td>0</td>\n",
       "      <td>120</td>\n",
       "      <td>354.0</td>\n",
       "      <td>0</td>\n",
       "      <td>1</td>\n",
       "      <td>163</td>\n",
       "      <td>1</td>\n",
       "      <td>2</td>\n",
       "      <td>0</td>\n",
       "      <td>0</td>\n",
       "      <td>1</td>\n",
       "    </tr>\n",
       "  </tbody>\n",
       "</table>\n",
       "</div>"
      ],
      "text/plain": [
       "   age     sex  dehyd_lev  blood_pres  cholesterol  seizures  vomit_col  \\\n",
       "0   63    Male          3         145        233.0         1          0   \n",
       "1   37    Male          2         130        250.0         0          1   \n",
       "2   41  Female          1         130        204.0         0          0   \n",
       "3   56    Male          1         120        236.0         0          1   \n",
       "4   57  Female          0         120        354.0         0          1   \n",
       "\n",
       "   gastric_acid  O_bloodtype_bool  fec_cons  exposed_to  fever  cholera  \n",
       "0           150                 0         0           0      0        1  \n",
       "1           187                 0         0           0      0        1  \n",
       "2           172                 0         2           0      0        1  \n",
       "3           178                 0         2           0      0        1  \n",
       "4           163                 1         2           0      0        1  "
      ]
     },
     "execution_count": 3,
     "metadata": {},
     "output_type": "execute_result"
    }
   ],
   "source": [
    "cholera.head()"
   ]
  },
  {
   "cell_type": "code",
   "execution_count": 4,
   "metadata": {},
   "outputs": [
    {
     "data": {
      "text/plain": [
       "age                 129\n",
       "sex                 129\n",
       "dehyd_lev           129\n",
       "blood_pres          129\n",
       "cholesterol         128\n",
       "seizures            129\n",
       "vomit_col           129\n",
       "gastric_acid        129\n",
       "O_bloodtype_bool    129\n",
       "fec_cons            129\n",
       "exposed_to          129\n",
       "fever               129\n",
       "cholera             129\n",
       "dtype: int64"
      ]
     },
     "execution_count": 4,
     "metadata": {},
     "output_type": "execute_result"
    }
   ],
   "source": [
    "cholera[cholera['cholera'] == 0].count()"
   ]
  },
  {
   "cell_type": "code",
   "execution_count": null,
   "metadata": {},
   "outputs": [],
   "source": []
  },
  {
   "cell_type": "code",
   "execution_count": 5,
   "metadata": {},
   "outputs": [
    {
     "data": {
      "text/html": [
       "<div>\n",
       "<style scoped>\n",
       "    .dataframe tbody tr th:only-of-type {\n",
       "        vertical-align: middle;\n",
       "    }\n",
       "\n",
       "    .dataframe tbody tr th {\n",
       "        vertical-align: top;\n",
       "    }\n",
       "\n",
       "    .dataframe thead th {\n",
       "        text-align: right;\n",
       "    }\n",
       "</style>\n",
       "<table border=\"1\" class=\"dataframe\">\n",
       "  <thead>\n",
       "    <tr style=\"text-align: right;\">\n",
       "      <th></th>\n",
       "      <th>age</th>\n",
       "      <th>dehyd_lev</th>\n",
       "      <th>blood_pres</th>\n",
       "      <th>cholesterol</th>\n",
       "      <th>seizures</th>\n",
       "      <th>vomit_col</th>\n",
       "      <th>gastric_acid</th>\n",
       "      <th>O_bloodtype_bool</th>\n",
       "      <th>fec_cons</th>\n",
       "      <th>exposed_to</th>\n",
       "      <th>fever</th>\n",
       "      <th>cholera</th>\n",
       "    </tr>\n",
       "  </thead>\n",
       "  <tbody>\n",
       "    <tr>\n",
       "      <th>age</th>\n",
       "      <td>1.000000</td>\n",
       "      <td>-0.041980</td>\n",
       "      <td>0.291859</td>\n",
       "      <td>0.155720</td>\n",
       "      <td>0.101558</td>\n",
       "      <td>-0.111134</td>\n",
       "      <td>-0.346124</td>\n",
       "      <td>0.071626</td>\n",
       "      <td>-0.140680</td>\n",
       "      <td>0.267881</td>\n",
       "      <td>0.046853</td>\n",
       "      <td>-0.199590</td>\n",
       "    </tr>\n",
       "    <tr>\n",
       "      <th>dehyd_lev</th>\n",
       "      <td>-0.041980</td>\n",
       "      <td>1.000000</td>\n",
       "      <td>0.076154</td>\n",
       "      <td>-0.084812</td>\n",
       "      <td>0.087561</td>\n",
       "      <td>0.069639</td>\n",
       "      <td>0.295874</td>\n",
       "      <td>-0.389167</td>\n",
       "      <td>0.120752</td>\n",
       "      <td>-0.171360</td>\n",
       "      <td>-0.038666</td>\n",
       "      <td>0.426658</td>\n",
       "    </tr>\n",
       "    <tr>\n",
       "      <th>blood_pres</th>\n",
       "      <td>0.291859</td>\n",
       "      <td>0.076154</td>\n",
       "      <td>1.000000</td>\n",
       "      <td>0.094727</td>\n",
       "      <td>0.121848</td>\n",
       "      <td>-0.146286</td>\n",
       "      <td>-0.074843</td>\n",
       "      <td>0.004900</td>\n",
       "      <td>-0.092087</td>\n",
       "      <td>0.115997</td>\n",
       "      <td>0.027002</td>\n",
       "      <td>-0.120231</td>\n",
       "    </tr>\n",
       "    <tr>\n",
       "      <th>cholesterol</th>\n",
       "      <td>0.155720</td>\n",
       "      <td>-0.084812</td>\n",
       "      <td>0.094727</td>\n",
       "      <td>1.000000</td>\n",
       "      <td>0.016311</td>\n",
       "      <td>-0.124083</td>\n",
       "      <td>-0.032912</td>\n",
       "      <td>0.087639</td>\n",
       "      <td>0.027724</td>\n",
       "      <td>0.075291</td>\n",
       "      <td>0.018957</td>\n",
       "      <td>-0.117750</td>\n",
       "    </tr>\n",
       "    <tr>\n",
       "      <th>seizures</th>\n",
       "      <td>0.101558</td>\n",
       "      <td>0.087561</td>\n",
       "      <td>0.121848</td>\n",
       "      <td>0.016311</td>\n",
       "      <td>1.000000</td>\n",
       "      <td>-0.082142</td>\n",
       "      <td>-0.019601</td>\n",
       "      <td>0.004785</td>\n",
       "      <td>-0.057886</td>\n",
       "      <td>0.135886</td>\n",
       "      <td>-0.033584</td>\n",
       "      <td>-0.021873</td>\n",
       "    </tr>\n",
       "    <tr>\n",
       "      <th>vomit_col</th>\n",
       "      <td>-0.111134</td>\n",
       "      <td>0.069639</td>\n",
       "      <td>-0.146286</td>\n",
       "      <td>-0.124083</td>\n",
       "      <td>-0.082142</td>\n",
       "      <td>1.000000</td>\n",
       "      <td>0.077269</td>\n",
       "      <td>-0.098556</td>\n",
       "      <td>0.085000</td>\n",
       "      <td>-0.055994</td>\n",
       "      <td>-0.085519</td>\n",
       "      <td>0.154995</td>\n",
       "    </tr>\n",
       "    <tr>\n",
       "      <th>gastric_acid</th>\n",
       "      <td>-0.346124</td>\n",
       "      <td>0.295874</td>\n",
       "      <td>-0.074843</td>\n",
       "      <td>-0.032912</td>\n",
       "      <td>-0.019601</td>\n",
       "      <td>0.077269</td>\n",
       "      <td>1.000000</td>\n",
       "      <td>-0.395863</td>\n",
       "      <td>0.386537</td>\n",
       "      <td>-0.238897</td>\n",
       "      <td>0.063576</td>\n",
       "      <td>0.431206</td>\n",
       "    </tr>\n",
       "    <tr>\n",
       "      <th>O_bloodtype_bool</th>\n",
       "      <td>0.071626</td>\n",
       "      <td>-0.389167</td>\n",
       "      <td>0.004900</td>\n",
       "      <td>0.087639</td>\n",
       "      <td>0.004785</td>\n",
       "      <td>-0.098556</td>\n",
       "      <td>-0.395863</td>\n",
       "      <td>1.000000</td>\n",
       "      <td>-0.255747</td>\n",
       "      <td>0.115967</td>\n",
       "      <td>-0.057293</td>\n",
       "      <td>-0.431165</td>\n",
       "    </tr>\n",
       "    <tr>\n",
       "      <th>fec_cons</th>\n",
       "      <td>-0.140680</td>\n",
       "      <td>0.120752</td>\n",
       "      <td>-0.092087</td>\n",
       "      <td>0.027724</td>\n",
       "      <td>-0.057886</td>\n",
       "      <td>0.085000</td>\n",
       "      <td>0.386537</td>\n",
       "      <td>-0.255747</td>\n",
       "      <td>1.000000</td>\n",
       "      <td>-0.076454</td>\n",
       "      <td>-0.124802</td>\n",
       "      <td>0.345785</td>\n",
       "    </tr>\n",
       "    <tr>\n",
       "      <th>exposed_to</th>\n",
       "      <td>0.267881</td>\n",
       "      <td>-0.171360</td>\n",
       "      <td>0.115997</td>\n",
       "      <td>0.075291</td>\n",
       "      <td>0.135886</td>\n",
       "      <td>-0.055994</td>\n",
       "      <td>-0.238897</td>\n",
       "      <td>0.115967</td>\n",
       "      <td>-0.076454</td>\n",
       "      <td>1.000000</td>\n",
       "      <td>0.063066</td>\n",
       "      <td>-0.388963</td>\n",
       "    </tr>\n",
       "    <tr>\n",
       "      <th>fever</th>\n",
       "      <td>0.046853</td>\n",
       "      <td>-0.038666</td>\n",
       "      <td>0.027002</td>\n",
       "      <td>0.018957</td>\n",
       "      <td>-0.033584</td>\n",
       "      <td>-0.085519</td>\n",
       "      <td>0.063576</td>\n",
       "      <td>-0.057293</td>\n",
       "      <td>-0.124802</td>\n",
       "      <td>0.063066</td>\n",
       "      <td>1.000000</td>\n",
       "      <td>-0.092840</td>\n",
       "    </tr>\n",
       "    <tr>\n",
       "      <th>cholera</th>\n",
       "      <td>-0.199590</td>\n",
       "      <td>0.426658</td>\n",
       "      <td>-0.120231</td>\n",
       "      <td>-0.117750</td>\n",
       "      <td>-0.021873</td>\n",
       "      <td>0.154995</td>\n",
       "      <td>0.431206</td>\n",
       "      <td>-0.431165</td>\n",
       "      <td>0.345785</td>\n",
       "      <td>-0.388963</td>\n",
       "      <td>-0.092840</td>\n",
       "      <td>1.000000</td>\n",
       "    </tr>\n",
       "  </tbody>\n",
       "</table>\n",
       "</div>"
      ],
      "text/plain": [
       "                       age  dehyd_lev  blood_pres  cholesterol  seizures  \\\n",
       "age               1.000000  -0.041980    0.291859     0.155720  0.101558   \n",
       "dehyd_lev        -0.041980   1.000000    0.076154    -0.084812  0.087561   \n",
       "blood_pres        0.291859   0.076154    1.000000     0.094727  0.121848   \n",
       "cholesterol       0.155720  -0.084812    0.094727     1.000000  0.016311   \n",
       "seizures          0.101558   0.087561    0.121848     0.016311  1.000000   \n",
       "vomit_col        -0.111134   0.069639   -0.146286    -0.124083 -0.082142   \n",
       "gastric_acid     -0.346124   0.295874   -0.074843    -0.032912 -0.019601   \n",
       "O_bloodtype_bool  0.071626  -0.389167    0.004900     0.087639  0.004785   \n",
       "fec_cons         -0.140680   0.120752   -0.092087     0.027724 -0.057886   \n",
       "exposed_to        0.267881  -0.171360    0.115997     0.075291  0.135886   \n",
       "fever             0.046853  -0.038666    0.027002     0.018957 -0.033584   \n",
       "cholera          -0.199590   0.426658   -0.120231    -0.117750 -0.021873   \n",
       "\n",
       "                  vomit_col  gastric_acid  O_bloodtype_bool  fec_cons  \\\n",
       "age               -0.111134     -0.346124          0.071626 -0.140680   \n",
       "dehyd_lev          0.069639      0.295874         -0.389167  0.120752   \n",
       "blood_pres        -0.146286     -0.074843          0.004900 -0.092087   \n",
       "cholesterol       -0.124083     -0.032912          0.087639  0.027724   \n",
       "seizures          -0.082142     -0.019601          0.004785 -0.057886   \n",
       "vomit_col          1.000000      0.077269         -0.098556  0.085000   \n",
       "gastric_acid       0.077269      1.000000         -0.395863  0.386537   \n",
       "O_bloodtype_bool  -0.098556     -0.395863          1.000000 -0.255747   \n",
       "fec_cons           0.085000      0.386537         -0.255747  1.000000   \n",
       "exposed_to        -0.055994     -0.238897          0.115967 -0.076454   \n",
       "fever             -0.085519      0.063576         -0.057293 -0.124802   \n",
       "cholera            0.154995      0.431206         -0.431165  0.345785   \n",
       "\n",
       "                  exposed_to     fever   cholera  \n",
       "age                 0.267881  0.046853 -0.199590  \n",
       "dehyd_lev          -0.171360 -0.038666  0.426658  \n",
       "blood_pres          0.115997  0.027002 -0.120231  \n",
       "cholesterol         0.075291  0.018957 -0.117750  \n",
       "seizures            0.135886 -0.033584 -0.021873  \n",
       "vomit_col          -0.055994 -0.085519  0.154995  \n",
       "gastric_acid       -0.238897  0.063576  0.431206  \n",
       "O_bloodtype_bool    0.115967 -0.057293 -0.431165  \n",
       "fec_cons           -0.076454 -0.124802  0.345785  \n",
       "exposed_to          1.000000  0.063066 -0.388963  \n",
       "fever               0.063066  1.000000 -0.092840  \n",
       "cholera            -0.388963 -0.092840  1.000000  "
      ]
     },
     "execution_count": 5,
     "metadata": {},
     "output_type": "execute_result"
    }
   ],
   "source": [
    "cholera.corr()"
   ]
  },
  {
   "cell_type": "code",
   "execution_count": 41,
   "metadata": {},
   "outputs": [
    {
     "data": {
      "text/html": [
       "<div>\n",
       "<style scoped>\n",
       "    .dataframe tbody tr th:only-of-type {\n",
       "        vertical-align: middle;\n",
       "    }\n",
       "\n",
       "    .dataframe tbody tr th {\n",
       "        vertical-align: top;\n",
       "    }\n",
       "\n",
       "    .dataframe thead th {\n",
       "        text-align: right;\n",
       "    }\n",
       "</style>\n",
       "<table border=\"1\" class=\"dataframe\">\n",
       "  <thead>\n",
       "    <tr style=\"text-align: right;\">\n",
       "      <th></th>\n",
       "      <th>cholera</th>\n",
       "      <th>dehyd_lev</th>\n",
       "    </tr>\n",
       "  </thead>\n",
       "  <tbody>\n",
       "    <tr>\n",
       "      <th>cholera</th>\n",
       "      <td>1.000000</td>\n",
       "      <td>0.426658</td>\n",
       "    </tr>\n",
       "    <tr>\n",
       "      <th>dehyd_lev</th>\n",
       "      <td>0.426658</td>\n",
       "      <td>1.000000</td>\n",
       "    </tr>\n",
       "  </tbody>\n",
       "</table>\n",
       "</div>"
      ],
      "text/plain": [
       "            cholera  dehyd_lev\n",
       "cholera    1.000000   0.426658\n",
       "dehyd_lev  0.426658   1.000000"
      ]
     },
     "execution_count": 41,
     "metadata": {},
     "output_type": "execute_result"
    }
   ],
   "source": [
    "cholera[['cholera', 'dehyd_lev']].corr()"
   ]
  },
  {
   "cell_type": "code",
   "execution_count": 16,
   "metadata": {},
   "outputs": [
    {
     "data": {
      "text/html": [
       "<div>\n",
       "<style scoped>\n",
       "    .dataframe tbody tr th:only-of-type {\n",
       "        vertical-align: middle;\n",
       "    }\n",
       "\n",
       "    .dataframe tbody tr th {\n",
       "        vertical-align: top;\n",
       "    }\n",
       "\n",
       "    .dataframe thead th {\n",
       "        text-align: right;\n",
       "    }\n",
       "</style>\n",
       "<table border=\"1\" class=\"dataframe\">\n",
       "  <thead>\n",
       "    <tr style=\"text-align: right;\">\n",
       "      <th></th>\n",
       "      <th>age</th>\n",
       "      <th>sex</th>\n",
       "      <th>dehyd_lev</th>\n",
       "      <th>blood_pres</th>\n",
       "      <th>cholesterol</th>\n",
       "      <th>seizures</th>\n",
       "      <th>vomit_col</th>\n",
       "      <th>gastric_acid</th>\n",
       "      <th>O_bloodtype_bool</th>\n",
       "      <th>fec_cons</th>\n",
       "      <th>exposed_to</th>\n",
       "      <th>fever</th>\n",
       "      <th>cholera</th>\n",
       "    </tr>\n",
       "  </thead>\n",
       "  <tbody>\n",
       "    <tr>\n",
       "      <th>0</th>\n",
       "      <td>63</td>\n",
       "      <td>Male</td>\n",
       "      <td>3</td>\n",
       "      <td>145</td>\n",
       "      <td>233.0</td>\n",
       "      <td>1</td>\n",
       "      <td>0</td>\n",
       "      <td>150</td>\n",
       "      <td>0</td>\n",
       "      <td>0</td>\n",
       "      <td>0</td>\n",
       "      <td>0</td>\n",
       "      <td>1</td>\n",
       "    </tr>\n",
       "    <tr>\n",
       "      <th>1</th>\n",
       "      <td>37</td>\n",
       "      <td>Male</td>\n",
       "      <td>2</td>\n",
       "      <td>130</td>\n",
       "      <td>250.0</td>\n",
       "      <td>0</td>\n",
       "      <td>1</td>\n",
       "      <td>187</td>\n",
       "      <td>0</td>\n",
       "      <td>0</td>\n",
       "      <td>0</td>\n",
       "      <td>0</td>\n",
       "      <td>1</td>\n",
       "    </tr>\n",
       "    <tr>\n",
       "      <th>2</th>\n",
       "      <td>41</td>\n",
       "      <td>Female</td>\n",
       "      <td>1</td>\n",
       "      <td>130</td>\n",
       "      <td>204.0</td>\n",
       "      <td>0</td>\n",
       "      <td>0</td>\n",
       "      <td>172</td>\n",
       "      <td>0</td>\n",
       "      <td>2</td>\n",
       "      <td>0</td>\n",
       "      <td>0</td>\n",
       "      <td>1</td>\n",
       "    </tr>\n",
       "    <tr>\n",
       "      <th>3</th>\n",
       "      <td>56</td>\n",
       "      <td>Male</td>\n",
       "      <td>1</td>\n",
       "      <td>120</td>\n",
       "      <td>236.0</td>\n",
       "      <td>0</td>\n",
       "      <td>1</td>\n",
       "      <td>178</td>\n",
       "      <td>0</td>\n",
       "      <td>2</td>\n",
       "      <td>0</td>\n",
       "      <td>0</td>\n",
       "      <td>1</td>\n",
       "    </tr>\n",
       "    <tr>\n",
       "      <th>4</th>\n",
       "      <td>57</td>\n",
       "      <td>Female</td>\n",
       "      <td>0</td>\n",
       "      <td>120</td>\n",
       "      <td>354.0</td>\n",
       "      <td>0</td>\n",
       "      <td>1</td>\n",
       "      <td>163</td>\n",
       "      <td>1</td>\n",
       "      <td>2</td>\n",
       "      <td>0</td>\n",
       "      <td>0</td>\n",
       "      <td>1</td>\n",
       "    </tr>\n",
       "  </tbody>\n",
       "</table>\n",
       "</div>"
      ],
      "text/plain": [
       "   age     sex  dehyd_lev  blood_pres  cholesterol  seizures  vomit_col  \\\n",
       "0   63    Male          3         145        233.0         1          0   \n",
       "1   37    Male          2         130        250.0         0          1   \n",
       "2   41  Female          1         130        204.0         0          0   \n",
       "3   56    Male          1         120        236.0         0          1   \n",
       "4   57  Female          0         120        354.0         0          1   \n",
       "\n",
       "   gastric_acid  O_bloodtype_bool  fec_cons  exposed_to  fever  cholera  \n",
       "0           150                 0         0           0      0        1  \n",
       "1           187                 0         0           0      0        1  \n",
       "2           172                 0         2           0      0        1  \n",
       "3           178                 0         2           0      0        1  \n",
       "4           163                 1         2           0      0        1  "
      ]
     },
     "execution_count": 16,
     "metadata": {},
     "output_type": "execute_result"
    }
   ],
   "source": [
    "cholera_pos = cholera.query('cholera == 1').copy()\n",
    "cholera_pos.head()"
   ]
  },
  {
   "cell_type": "code",
   "execution_count": 27,
   "metadata": {},
   "outputs": [
    {
     "data": {
      "text/plain": [
       "'fig, ax = plt.subplots(figsize = (10,5))\\nax.plot(cholera.dehyd_lev, cholera.cholera)\\n\\nplt.show()'"
      ]
     },
     "execution_count": 27,
     "metadata": {},
     "output_type": "execute_result"
    },
    {
     "data": {
      "image/png": "[encoded data removed]",
      "text/plain": [
       "<Figure size 360x360 with 1 Axes>"
      ]
     },
     "metadata": {
      "needs_background": "light"
     },
     "output_type": "display_data"
    }
   ],
   "source": [
    "\"\"\"fig, ax = plt.bar(10,10)\n",
    "ax.plot(cholera.dehyd_lev, cholera.cholera)\n",
    "ax.set_title('Simple plot')\"\"\"\n",
    "\n",
    "fig, ax = plt.subplots(1, 1, figsize=(5, 5))\n",
    "sns.barplot(cholera['dehyd_lev'], hue = cholera['cholera'])\n",
    "\n",
    "\"\"\"axs[1, 0].scatter(data[0], data[1])\n",
    "axs[0, 1].plot(data[0], data[1])\n",
    "axs[1, 1].hist2d(data[0], data[1])\"\"\"\n",
    "\n",
    "\"\"\"fig, ax = plt.subplots(figsize = (10,5))\n",
    "ax.plot(cholera.dehyd_lev, cholera.cholera)\n",
    "\n",
    "plt.show()\"\"\""
   ]
  },
  {
   "cell_type": "code",
   "execution_count": 34,
   "metadata": {},
   "outputs": [
    {
     "data": {
      "text/html": [
       "<div>\n",
       "<style scoped>\n",
       "    .dataframe tbody tr th:only-of-type {\n",
       "        vertical-align: middle;\n",
       "    }\n",
       "\n",
       "    .dataframe tbody tr th {\n",
       "        vertical-align: top;\n",
       "    }\n",
       "\n",
       "    .dataframe thead th {\n",
       "        text-align: right;\n",
       "    }\n",
       "</style>\n",
       "<table border=\"1\" class=\"dataframe\">\n",
       "  <thead>\n",
       "    <tr style=\"text-align: right;\">\n",
       "      <th></th>\n",
       "      <th></th>\n",
       "      <th>blood_pres</th>\n",
       "    </tr>\n",
       "    <tr>\n",
       "      <th>cholera</th>\n",
       "      <th>dehyd_lev</th>\n",
       "      <th></th>\n",
       "    </tr>\n",
       "  </thead>\n",
       "  <tbody>\n",
       "    <tr>\n",
       "      <th rowspan=\"4\" valign=\"top\">0</th>\n",
       "      <th>0</th>\n",
       "      <td>97</td>\n",
       "    </tr>\n",
       "    <tr>\n",
       "      <th>1</th>\n",
       "      <td>8</td>\n",
       "    </tr>\n",
       "    <tr>\n",
       "      <th>2</th>\n",
       "      <td>17</td>\n",
       "    </tr>\n",
       "    <tr>\n",
       "      <th>3</th>\n",
       "      <td>7</td>\n",
       "    </tr>\n",
       "    <tr>\n",
       "      <th rowspan=\"4\" valign=\"top\">1</th>\n",
       "      <th>0</th>\n",
       "      <td>37</td>\n",
       "    </tr>\n",
       "    <tr>\n",
       "      <th>1</th>\n",
       "      <td>41</td>\n",
       "    </tr>\n",
       "    <tr>\n",
       "      <th>2</th>\n",
       "      <td>66</td>\n",
       "    </tr>\n",
       "    <tr>\n",
       "      <th>3</th>\n",
       "      <td>15</td>\n",
       "    </tr>\n",
       "  </tbody>\n",
       "</table>\n",
       "</div>"
      ],
      "text/plain": [
       "                   blood_pres\n",
       "cholera dehyd_lev            \n",
       "0       0                  97\n",
       "        1                   8\n",
       "        2                  17\n",
       "        3                   7\n",
       "1       0                  37\n",
       "        1                  41\n",
       "        2                  66\n",
       "        3                  15"
      ]
     },
     "execution_count": 34,
     "metadata": {},
     "output_type": "execute_result"
    }
   ],
   "source": [
    "pd.pivot_table(data = cholera, values = 'blood_pres', index = ['cholera', 'dehyd_lev'], aggfunc = 'count' )"
   ]
  },
  {
   "cell_type": "code",
   "execution_count": 36,
   "metadata": {},
   "outputs": [
    {
     "data": {
      "text/plain": [
       "159"
      ]
     },
     "execution_count": 36,
     "metadata": {},
     "output_type": "execute_result"
    }
   ],
   "source": [
    "cholera['cholera'].sum()"
   ]
  },
  {
   "cell_type": "code",
   "execution_count": 37,
   "metadata": {},
   "outputs": [
    {
     "data": {
      "text/plain": [
       "129"
      ]
     },
     "execution_count": 37,
     "metadata": {},
     "output_type": "execute_result"
    }
   ],
   "source": [
    "len(cholera)-cholera['cholera'].sum()"
   ]
  },
  {
   "cell_type": "code",
   "execution_count": 56,
   "metadata": {},
   "outputs": [
    {
     "data": {
      "text/plain": [
       "Index(['blood_pres'], dtype='object')"
      ]
     },
     "execution_count": 56,
     "metadata": {},
     "output_type": "execute_result"
    }
   ],
   "source": [
    "hola = pd.pivot_table(data = cholera, values = ('blood_pres'), index = ['dehyd_lev', 'cholera'], aggfunc = 'count' )\n",
    "hola.columns"
   ]
  },
  {
   "cell_type": "code",
   "execution_count": 57,
   "metadata": {},
   "outputs": [],
   "source": [
    "hola.reset_index(inplace = True)"
   ]
  },
  {
   "cell_type": "code",
   "execution_count": 58,
   "metadata": {},
   "outputs": [
    {
     "data": {
      "text/html": [
       "<div>\n",
       "<style scoped>\n",
       "    .dataframe tbody tr th:only-of-type {\n",
       "        vertical-align: middle;\n",
       "    }\n",
       "\n",
       "    .dataframe tbody tr th {\n",
       "        vertical-align: top;\n",
       "    }\n",
       "\n",
       "    .dataframe thead th {\n",
       "        text-align: right;\n",
       "    }\n",
       "</style>\n",
       "<table border=\"1\" class=\"dataframe\">\n",
       "  <thead>\n",
       "    <tr style=\"text-align: right;\">\n",
       "      <th></th>\n",
       "      <th>dehyd_lev</th>\n",
       "      <th>cholera</th>\n",
       "      <th>blood_pres</th>\n",
       "    </tr>\n",
       "  </thead>\n",
       "  <tbody>\n",
       "    <tr>\n",
       "      <th>0</th>\n",
       "      <td>0</td>\n",
       "      <td>0</td>\n",
       "      <td>97</td>\n",
       "    </tr>\n",
       "    <tr>\n",
       "      <th>1</th>\n",
       "      <td>0</td>\n",
       "      <td>1</td>\n",
       "      <td>37</td>\n",
       "    </tr>\n",
       "    <tr>\n",
       "      <th>2</th>\n",
       "      <td>1</td>\n",
       "      <td>0</td>\n",
       "      <td>8</td>\n",
       "    </tr>\n",
       "    <tr>\n",
       "      <th>3</th>\n",
       "      <td>1</td>\n",
       "      <td>1</td>\n",
       "      <td>41</td>\n",
       "    </tr>\n",
       "    <tr>\n",
       "      <th>4</th>\n",
       "      <td>2</td>\n",
       "      <td>0</td>\n",
       "      <td>17</td>\n",
       "    </tr>\n",
       "    <tr>\n",
       "      <th>5</th>\n",
       "      <td>2</td>\n",
       "      <td>1</td>\n",
       "      <td>66</td>\n",
       "    </tr>\n",
       "    <tr>\n",
       "      <th>6</th>\n",
       "      <td>3</td>\n",
       "      <td>0</td>\n",
       "      <td>7</td>\n",
       "    </tr>\n",
       "    <tr>\n",
       "      <th>7</th>\n",
       "      <td>3</td>\n",
       "      <td>1</td>\n",
       "      <td>15</td>\n",
       "    </tr>\n",
       "  </tbody>\n",
       "</table>\n",
       "</div>"
      ],
      "text/plain": [
       "   dehyd_lev  cholera  blood_pres\n",
       "0          0        0          97\n",
       "1          0        1          37\n",
       "2          1        0           8\n",
       "3          1        1          41\n",
       "4          2        0          17\n",
       "5          2        1          66\n",
       "6          3        0           7\n",
       "7          3        1          15"
      ]
     },
     "execution_count": 58,
     "metadata": {},
     "output_type": "execute_result"
    }
   ],
   "source": [
    "hola"
   ]
  },
  {
   "cell_type": "code",
   "execution_count": 59,
   "metadata": {},
   "outputs": [
    {
     "data": {
      "text/plain": [
       "<matplotlib.axes._subplots.AxesSubplot at 0x122903290>"
      ]
     },
     "execution_count": 59,
     "metadata": {},
     "output_type": "execute_result"
    },
    {
     "data": {
      "image/png": "[encoded data removed]",
      "text/plain": [
       "<Figure size 432x288 with 1 Axes>"
      ]
     },
     "metadata": {
      "needs_background": "light"
     },
     "output_type": "display_data"
    }
   ],
   "source": [
    "sns.scatterplot(x = 'dehyd_lev', y = 'blood_pres', data = hola, hue = 'cholera')"
   ]
  },
  {
   "cell_type": "code",
   "execution_count": 55,
   "metadata": {},
   "outputs": [
    {
     "data": {
      "text/plain": [
       "Index(['blood_pres'], dtype='object')"
      ]
     },
     "execution_count": 55,
     "metadata": {},
     "output_type": "execute_result"
    }
   ],
   "source": [
    "hola2 = pd.pivot_table(data = cholera, values = ('blood_pres'), index = ['dehyd_lev', 'cholera','vomit_col', 'fec_cons'], aggfunc = 'count' )\n",
    "hola.columns"
   ]
  },
  {
   "cell_type": "code",
   "execution_count": 61,
   "metadata": {},
   "outputs": [],
   "source": [
    "hola2.reset_index(inplace = True)"
   ]
  },
  {
   "cell_type": "code",
   "execution_count": 72,
   "metadata": {},
   "outputs": [],
   "source": [
    "hola2.rename(columns = {'blood_pres': 'count_people'}, inplace = True)"
   ]
  },
  {
   "cell_type": "code",
   "execution_count": 73,
   "metadata": {},
   "outputs": [
    {
     "data": {
      "text/plain": [
       "<matplotlib.axes._subplots.AxesSubplot at 0x122a13cd0>"
      ]
     },
     "execution_count": 73,
     "metadata": {},
     "output_type": "execute_result"
    },
    {
     "data": {
      "image/png": "[encoded data removed]",
      "text/plain": [
       "<Figure size 432x288 with 1 Axes>"
      ]
     },
     "metadata": {
      "needs_background": "light"
     },
     "output_type": "display_data"
    }
   ],
   "source": [
    "sns.barplot(x = 'dehyd_lev', y = 'count_people', data = hola2, hue = 'cholera')"
   ]
  },
  {
   "cell_type": "code",
   "execution_count": null,
   "metadata": {},
   "outputs": [],
   "source": []
  }
 ],
 "metadata": {
  "kernelspec": {
   "display_name": "Python 3",
   "language": "python",
   "name": "python3"
  },
  "language_info": {
   "codemirror_mode": {
    "name": "ipython",
    "version": 3
   },
   "file_extension": ".py",
   "mimetype": "text/x-python",
   "name": "python",
   "nbconvert_exporter": "python",
   "pygments_lexer": "ipython3",
   "version": "3.7.4"
  }
 },
 "nbformat": 4,
 "nbformat_minor": 2
}
